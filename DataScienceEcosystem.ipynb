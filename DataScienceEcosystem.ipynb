{
 "cells": [
  {
   "cell_type": "markdown",
   "id": "14342550-cfd3-45d1-9331-ee1cea7e610e",
   "metadata": {},
   "source": [
    "# Data Science Tools and Ecosystem"
   ]
  },
  {
   "cell_type": "markdown",
   "id": "d30f833e-74ee-46af-8926-8075761bb894",
   "metadata": {},
   "source": [
    "In this notebook, Data Science Tools and Ecosystem are summarized."
   ]
  },
  {
   "cell_type": "markdown",
   "id": "597d1733-4419-4491-995c-91efed5d6cf6",
   "metadata": {},
   "source": [
    "**Objectives:**\n",
    "- List popular languages for Data Science\n",
    "- List commonly used libraries in Data Science\n",
    "- Create a one-column table and list commonly used Data Science Tools\n",
    "- Evaluating arithmetic expressions in Python\n",
    "- Converting 200 minutes to hours using arithmetic expressions\n",
    "\n",
    "## Author\n",
    "Vivek Kalolia"
   ]
  },
  {
   "cell_type": "markdown",
   "id": "d631f1e5-2bb3-484e-96a2-24a44003f58c",
   "metadata": {},
   "source": [
    "Some of the popular languages that Data Scientists use are:\n",
    "1. Python\n",
    "2. R\n",
    "3. Julia"
   ]
  },
  {
   "cell_type": "markdown",
   "id": "36b1a64b-2a53-40d9-942f-7789e6ff2204",
   "metadata": {},
   "source": [
    "Some of the commonly used libraries used by Data Scientists include:\n",
    "1. Pandas\n",
    "2. NumPy\n",
    "3. TensorFlow\n",
    "4. Matplotlib"
   ]
  },
  {
   "cell_type": "markdown",
   "id": "7573df86-da03-4d73-af6d-e8d87f5eecb3",
   "metadata": {},
   "source": [
    "| Data Science Tools |\n",
    "| ------------------ |\n",
    "| IBM Watson Studio  |\n",
    "| RStudio            |\n",
    "| Google Colab       |"
   ]
  },
  {
   "cell_type": "markdown",
   "id": "6b989c04-6a71-41a5-b04e-36ac9c24810a",
   "metadata": {},
   "source": [
    "### Below are a few examples of evaluating arithmetic expressions in Python"
   ]
  },
  {
   "cell_type": "code",
   "execution_count": 18,
   "id": "eb56f904-8cdf-4f53-af39-2d38713a62d9",
   "metadata": {},
   "outputs": [
    {
     "data": {
      "text/plain": [
       "17"
      ]
     },
     "execution_count": 18,
     "metadata": {},
     "output_type": "execute_result"
    }
   ],
   "source": [
    "# This a simple arithmetic expression to mutiply then add integers\n",
    "(3*4)+5"
   ]
  },
  {
   "cell_type": "code",
   "execution_count": 26,
   "id": "61ea8d36-df3b-46c0-ab38-0530586a1691",
   "metadata": {},
   "outputs": [
    {
     "name": "stdout",
     "output_type": "stream",
     "text": [
      "3.3333333333333335 hours\n"
     ]
    }
   ],
   "source": [
    "# This will convert 200 minutes to hours by diving by 60\n",
    "min = 200\n",
    "x = min / 60\n",
    "print(f\"{x} hours\")"
   ]
  },
  {
   "cell_type": "code",
   "execution_count": null,
   "id": "7f9d0b67-65f9-4f84-9e0a-289ae9d8450e",
   "metadata": {},
   "outputs": [],
   "source": []
  }
 ],
 "metadata": {
  "kernelspec": {
   "display_name": "Python 3 (ipykernel)",
   "language": "python",
   "name": "python3"
  },
  "language_info": {
   "codemirror_mode": {
    "name": "ipython",
    "version": 3
   },
   "file_extension": ".py",
   "mimetype": "text/x-python",
   "name": "python",
   "nbconvert_exporter": "python",
   "pygments_lexer": "ipython3",
   "version": "3.12.4"
  }
 },
 "nbformat": 4,
 "nbformat_minor": 5
}
